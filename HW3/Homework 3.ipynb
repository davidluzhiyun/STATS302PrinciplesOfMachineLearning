{
 "cells": [
  {
   "cell_type": "markdown",
   "metadata": {},
   "source": [
    "# Homework 3 - Unsupervised learning "
   ]
  },
  {
   "cell_type": "markdown",
   "metadata": {},
   "source": [
    "## *Zhiyun (David) Lu*\n",
    "Netid: zl303"
   ]
  },
  {
   "cell_type": "markdown",
   "metadata": {},
   "source": [
    "\n",
    "# 1) Cluster some data of your choice\n",
    "### (6 points total)\n",
    "\n",
    "\n",
    "**(a)** First: get some data. You can pick any data source on the internet as long as it is not directly connected to some notebooks analyzing the data. In practice this excludes e.g. the data sets included in Scikit-Learn and most of the datasets on Kaggle. But there are many other possible sources as you can see e.g. on https://www.v7labs.com/blog/best-free-datasets-for-machine-learning . The best idea is to search for free data download sites related to some topic of your interest.\n",
    "\n",
    "If you use a data source which requires an API key, you obtain one extra credit. You have to describe reproducibly how you got the data (including your own API key). https://github.com/public-apis/public-apis is a good starting point for this type of data. It is not a problem if the usage of the API is well documented. In fact, you want that.\n",
    "\n",
    "In either case: before you get started, sent me an email with the URL of the data source so I can approve it. Also each source can only be used once, this is done one a first come, first served basis.\n",
    "\n",
    "After the question of the source is settled: download a dataset with at least 8 features and at least 1000 datapoints. This is unsupervised learning, if you have a target variable, you should either treat it as an additional feature, or ignore it until you get to your analysis.\n",
    "(1 point).  \n",
    "\n",
    "**(b)** Cluster the data either with k-means of GMM. Try to find the optimal k with the measures discussed in class. Discuss the result, where possible including domain knowledge. (2 points)\n",
    "\n",
    "**(c)** Cluster the data either with DBSCAN or agglomerative clustering. Try to find the optimal parameter(s) for the chosen method. Discuss the result, where possible including domain knowledge. (2 points)\n",
    "\n",
    "**(d)** Write a one paragraph summary what you have learned from the analysis. (1 point)"
   ]
  },
  {
   "cell_type": "markdown",
   "metadata": {},
   "source": [
    "**ANSWER**"
   ]
  },
  {
   "cell_type": "markdown",
   "source": [
    "**(a)** To get your API key for the ebird API, you need to first create an account on ebird.org. Then click \"Request Data\" on the bottom of the page in the\n",
    "\"Science\" column. Through links on the new page, submit a request to access the eBird API stating your organization and purpose. The key should show up. Now\n",
    " you should take a photo or memorize the key."
   ],
   "metadata": {
    "collapsed": false
   }
  },
  {
   "cell_type": "code",
   "execution_count": 26,
   "outputs": [],
   "source": [
    "# a\n",
    "import requests\n",
    "\n",
    "# observations in india in the last 30 days\n",
    "# If you want to go back further than 30 days, you need to write your own for loop to aggregate and filter historic data\n",
    "# India is picked instead of China for abundance of data\n",
    "#url = \"https://api.ebird.org/v2/data/obs/IN/recent/?back=30\"\n",
    "\n",
    "#payload={}\n",
    "#headers = {\n",
    "#  'X-eBirdApiToken': 'his8tb7djush'\n",
    "#}\n",
    "\n",
    "#response = requests.request(\"GET\", url, headers=headers, data=payload)"
   ],
   "metadata": {
    "collapsed": false
   }
  },
  {
   "cell_type": "code",
   "execution_count": 27,
   "outputs": [
    {
     "data": {
      "text/plain": "     speciesCode             comName                     sciName      locId  \\\n0        asikoe2          Asian Koel       Eudynamys scolopaceus  L22576253   \n1         commyn         Common Myna        Acridotheres tristis  L22576253   \n2         compea      Indian Peafowl              Pavo cristatus  L22576253   \n3         houspa       House Sparrow           Passer domesticus  L22576253   \n4        houcro1          House Crow            Corvus splendens  L22576253   \n...          ...                 ...                         ...        ...   \n1116     sllcra1  Slaty-legged Crake        Rallina eurizonoides   L6969866   \n1117     swagoo1          Swan Goose             Anser cygnoides  L20989948   \n1118     sedwar1       Sedge Warbler  Acrocephalus schoenobaenus   L5155964   \n1119     baepoc1      Baer's Pochard                Aythya baeri   L5441428   \n1120     briter1        Bridled Tern      Onychoprion anaethetus   L3154851   \n\n                                      locName             obsDt  howMany  \\\n0     Thukrai, Rajasthan, IN (25.031, 75.074)  2023-02-20 22:04      5.0   \n1     Thukrai, Rajasthan, IN (25.031, 75.074)  2023-02-20 22:04      6.0   \n2     Thukrai, Rajasthan, IN (25.031, 75.074)  2023-02-20 22:04      2.0   \n3     Thukrai, Rajasthan, IN (25.031, 75.074)  2023-02-20 22:04     19.0   \n4     Thukrai, Rajasthan, IN (25.031, 75.074)  2023-02-20 22:04     22.0   \n...                                       ...               ...      ...   \n1116                  Vanoshi Forest Homestay  2023-01-22 15:34      1.0   \n1117                            sailana talab  2023-01-22 09:00      6.0   \n1118                                   Ezhome  2023-01-22 08:34      1.0   \n1119               Kokilamukh- Bar Saral beel  2023-01-22 07:15      2.0   \n1120             Kadamakudy--Thundathumkadavu  2023-01-21 07:00      1.0   \n\n            lat        lng  obsValid  obsReviewed  locationPrivate  \\\n0     25.030915  75.073937      True        False             True   \n1     25.030915  75.073937      True        False             True   \n2     25.030915  75.073937      True        False             True   \n3     25.030915  75.073937      True        False             True   \n4     25.030915  75.073937      True        False             True   \n...         ...        ...       ...          ...              ...   \n1116  15.722163  73.978903      True        False            False   \n1117  23.450191  74.946465      True        False             True   \n1118  12.030480  75.293309      True         True            False   \n1119  26.839187  94.207807      True         True            False   \n1120  10.068499  76.262237      True        False            False   \n\n           subId exoticCategory  \n0     S129066489            NaN  \n1     S129066489            NaN  \n2     S129066489            NaN  \n3     S129066489            NaN  \n4     S129066489            NaN  \n...          ...            ...  \n1116  S126904931            NaN  \n1117  S126846974              X  \n1118  S126680811            NaN  \n1119  S126766916            NaN  \n1120  S126589578            NaN  \n\n[1121 rows x 14 columns]",
      "text/html": "<div>\n<style scoped>\n    .dataframe tbody tr th:only-of-type {\n        vertical-align: middle;\n    }\n\n    .dataframe tbody tr th {\n        vertical-align: top;\n    }\n\n    .dataframe thead th {\n        text-align: right;\n    }\n</style>\n<table border=\"1\" class=\"dataframe\">\n  <thead>\n    <tr style=\"text-align: right;\">\n      <th></th>\n      <th>speciesCode</th>\n      <th>comName</th>\n      <th>sciName</th>\n      <th>locId</th>\n      <th>locName</th>\n      <th>obsDt</th>\n      <th>howMany</th>\n      <th>lat</th>\n      <th>lng</th>\n      <th>obsValid</th>\n      <th>obsReviewed</th>\n      <th>locationPrivate</th>\n      <th>subId</th>\n      <th>exoticCategory</th>\n    </tr>\n  </thead>\n  <tbody>\n    <tr>\n      <th>0</th>\n      <td>asikoe2</td>\n      <td>Asian Koel</td>\n      <td>Eudynamys scolopaceus</td>\n      <td>L22576253</td>\n      <td>Thukrai, Rajasthan, IN (25.031, 75.074)</td>\n      <td>2023-02-20 22:04</td>\n      <td>5.0</td>\n      <td>25.030915</td>\n      <td>75.073937</td>\n      <td>True</td>\n      <td>False</td>\n      <td>True</td>\n      <td>S129066489</td>\n      <td>NaN</td>\n    </tr>\n    <tr>\n      <th>1</th>\n      <td>commyn</td>\n      <td>Common Myna</td>\n      <td>Acridotheres tristis</td>\n      <td>L22576253</td>\n      <td>Thukrai, Rajasthan, IN (25.031, 75.074)</td>\n      <td>2023-02-20 22:04</td>\n      <td>6.0</td>\n      <td>25.030915</td>\n      <td>75.073937</td>\n      <td>True</td>\n      <td>False</td>\n      <td>True</td>\n      <td>S129066489</td>\n      <td>NaN</td>\n    </tr>\n    <tr>\n      <th>2</th>\n      <td>compea</td>\n      <td>Indian Peafowl</td>\n      <td>Pavo cristatus</td>\n      <td>L22576253</td>\n      <td>Thukrai, Rajasthan, IN (25.031, 75.074)</td>\n      <td>2023-02-20 22:04</td>\n      <td>2.0</td>\n      <td>25.030915</td>\n      <td>75.073937</td>\n      <td>True</td>\n      <td>False</td>\n      <td>True</td>\n      <td>S129066489</td>\n      <td>NaN</td>\n    </tr>\n    <tr>\n      <th>3</th>\n      <td>houspa</td>\n      <td>House Sparrow</td>\n      <td>Passer domesticus</td>\n      <td>L22576253</td>\n      <td>Thukrai, Rajasthan, IN (25.031, 75.074)</td>\n      <td>2023-02-20 22:04</td>\n      <td>19.0</td>\n      <td>25.030915</td>\n      <td>75.073937</td>\n      <td>True</td>\n      <td>False</td>\n      <td>True</td>\n      <td>S129066489</td>\n      <td>NaN</td>\n    </tr>\n    <tr>\n      <th>4</th>\n      <td>houcro1</td>\n      <td>House Crow</td>\n      <td>Corvus splendens</td>\n      <td>L22576253</td>\n      <td>Thukrai, Rajasthan, IN (25.031, 75.074)</td>\n      <td>2023-02-20 22:04</td>\n      <td>22.0</td>\n      <td>25.030915</td>\n      <td>75.073937</td>\n      <td>True</td>\n      <td>False</td>\n      <td>True</td>\n      <td>S129066489</td>\n      <td>NaN</td>\n    </tr>\n    <tr>\n      <th>...</th>\n      <td>...</td>\n      <td>...</td>\n      <td>...</td>\n      <td>...</td>\n      <td>...</td>\n      <td>...</td>\n      <td>...</td>\n      <td>...</td>\n      <td>...</td>\n      <td>...</td>\n      <td>...</td>\n      <td>...</td>\n      <td>...</td>\n      <td>...</td>\n    </tr>\n    <tr>\n      <th>1116</th>\n      <td>sllcra1</td>\n      <td>Slaty-legged Crake</td>\n      <td>Rallina eurizonoides</td>\n      <td>L6969866</td>\n      <td>Vanoshi Forest Homestay</td>\n      <td>2023-01-22 15:34</td>\n      <td>1.0</td>\n      <td>15.722163</td>\n      <td>73.978903</td>\n      <td>True</td>\n      <td>False</td>\n      <td>False</td>\n      <td>S126904931</td>\n      <td>NaN</td>\n    </tr>\n    <tr>\n      <th>1117</th>\n      <td>swagoo1</td>\n      <td>Swan Goose</td>\n      <td>Anser cygnoides</td>\n      <td>L20989948</td>\n      <td>sailana talab</td>\n      <td>2023-01-22 09:00</td>\n      <td>6.0</td>\n      <td>23.450191</td>\n      <td>74.946465</td>\n      <td>True</td>\n      <td>False</td>\n      <td>True</td>\n      <td>S126846974</td>\n      <td>X</td>\n    </tr>\n    <tr>\n      <th>1118</th>\n      <td>sedwar1</td>\n      <td>Sedge Warbler</td>\n      <td>Acrocephalus schoenobaenus</td>\n      <td>L5155964</td>\n      <td>Ezhome</td>\n      <td>2023-01-22 08:34</td>\n      <td>1.0</td>\n      <td>12.030480</td>\n      <td>75.293309</td>\n      <td>True</td>\n      <td>True</td>\n      <td>False</td>\n      <td>S126680811</td>\n      <td>NaN</td>\n    </tr>\n    <tr>\n      <th>1119</th>\n      <td>baepoc1</td>\n      <td>Baer's Pochard</td>\n      <td>Aythya baeri</td>\n      <td>L5441428</td>\n      <td>Kokilamukh- Bar Saral beel</td>\n      <td>2023-01-22 07:15</td>\n      <td>2.0</td>\n      <td>26.839187</td>\n      <td>94.207807</td>\n      <td>True</td>\n      <td>True</td>\n      <td>False</td>\n      <td>S126766916</td>\n      <td>NaN</td>\n    </tr>\n    <tr>\n      <th>1120</th>\n      <td>briter1</td>\n      <td>Bridled Tern</td>\n      <td>Onychoprion anaethetus</td>\n      <td>L3154851</td>\n      <td>Kadamakudy--Thundathumkadavu</td>\n      <td>2023-01-21 07:00</td>\n      <td>1.0</td>\n      <td>10.068499</td>\n      <td>76.262237</td>\n      <td>True</td>\n      <td>False</td>\n      <td>False</td>\n      <td>S126589578</td>\n      <td>NaN</td>\n    </tr>\n  </tbody>\n</table>\n<p>1121 rows × 14 columns</p>\n</div>"
     },
     "execution_count": 27,
     "metadata": {},
     "output_type": "execute_result"
    }
   ],
   "source": [
    "# a\n",
    "# to dataframe\n",
    "import pandas as pd\n",
    "\n",
    "# convert from json\n",
    "#df = pd.read_json(response.text)\n",
    "\n",
    "# save for reuse since the data the updated realtime\n",
    "#df.to_csv('data.csv',index_label=False)\n",
    "\n",
    "# load from file\n",
    "df = pd.read_csv('data.csv')\n",
    "\n",
    "df"
   ],
   "metadata": {
    "collapsed": false
   }
  },
  {
   "cell_type": "markdown",
   "source": [
    "**(b)** Sadly, not all features are usable, for those that are indeed usable, some pre-processing is also needed."
   ],
   "metadata": {
    "collapsed": false
   }
  },
  {
   "cell_type": "code",
   "execution_count": 28,
   "outputs": [
    {
     "data": {
      "text/plain": "              obsDt  howMany        lat        lng  obsValid  obsReviewed  \\\n0  2023-02-20 22:04      5.0  25.030915  75.073937      True        False   \n1  2023-02-20 22:04      6.0  25.030915  75.073937      True        False   \n2  2023-02-20 22:04      2.0  25.030915  75.073937      True        False   \n3  2023-02-20 22:04     19.0  25.030915  75.073937      True        False   \n4  2023-02-20 22:04     22.0  25.030915  75.073937      True        False   \n\n   locationPrivate exoticCategory  \n0             True            NaN  \n1             True            NaN  \n2             True            NaN  \n3             True            NaN  \n4             True            NaN  ",
      "text/html": "<div>\n<style scoped>\n    .dataframe tbody tr th:only-of-type {\n        vertical-align: middle;\n    }\n\n    .dataframe tbody tr th {\n        vertical-align: top;\n    }\n\n    .dataframe thead th {\n        text-align: right;\n    }\n</style>\n<table border=\"1\" class=\"dataframe\">\n  <thead>\n    <tr style=\"text-align: right;\">\n      <th></th>\n      <th>obsDt</th>\n      <th>howMany</th>\n      <th>lat</th>\n      <th>lng</th>\n      <th>obsValid</th>\n      <th>obsReviewed</th>\n      <th>locationPrivate</th>\n      <th>exoticCategory</th>\n    </tr>\n  </thead>\n  <tbody>\n    <tr>\n      <th>0</th>\n      <td>2023-02-20 22:04</td>\n      <td>5.0</td>\n      <td>25.030915</td>\n      <td>75.073937</td>\n      <td>True</td>\n      <td>False</td>\n      <td>True</td>\n      <td>NaN</td>\n    </tr>\n    <tr>\n      <th>1</th>\n      <td>2023-02-20 22:04</td>\n      <td>6.0</td>\n      <td>25.030915</td>\n      <td>75.073937</td>\n      <td>True</td>\n      <td>False</td>\n      <td>True</td>\n      <td>NaN</td>\n    </tr>\n    <tr>\n      <th>2</th>\n      <td>2023-02-20 22:04</td>\n      <td>2.0</td>\n      <td>25.030915</td>\n      <td>75.073937</td>\n      <td>True</td>\n      <td>False</td>\n      <td>True</td>\n      <td>NaN</td>\n    </tr>\n    <tr>\n      <th>3</th>\n      <td>2023-02-20 22:04</td>\n      <td>19.0</td>\n      <td>25.030915</td>\n      <td>75.073937</td>\n      <td>True</td>\n      <td>False</td>\n      <td>True</td>\n      <td>NaN</td>\n    </tr>\n    <tr>\n      <th>4</th>\n      <td>2023-02-20 22:04</td>\n      <td>22.0</td>\n      <td>25.030915</td>\n      <td>75.073937</td>\n      <td>True</td>\n      <td>False</td>\n      <td>True</td>\n      <td>NaN</td>\n    </tr>\n  </tbody>\n</table>\n</div>"
     },
     "execution_count": 28,
     "metadata": {},
     "output_type": "execute_result"
    }
   ],
   "source": [
    "# Remove everything specifying species since there are too many to one hot encode\n",
    "# Lat and lng is enough to specify location and better than 'locId' 'locName' one hot encoded\n",
    "# Way too many submissionIds to on hot encode and probably not useful for our purpose\n",
    "df_processed = df.drop(['speciesCode','comName', 'sciName','locId','locName','subId'],axis=1)\n",
    "df_processed.head()"
   ],
   "metadata": {
    "collapsed": false
   }
  },
  {
   "cell_type": "code",
   "execution_count": 29,
   "outputs": [
    {
     "name": "stdout",
     "output_type": "stream",
     "text": [
      "<class 'pandas.core.frame.DataFrame'>\n",
      "Int64Index: 1121 entries, 0 to 1120\n",
      "Data columns (total 8 columns):\n",
      " #   Column           Non-Null Count  Dtype  \n",
      "---  ------           --------------  -----  \n",
      " 0   obsDt            1121 non-null   object \n",
      " 1   howMany          1112 non-null   float64\n",
      " 2   lat              1121 non-null   float64\n",
      " 3   lng              1121 non-null   float64\n",
      " 4   obsValid         1121 non-null   bool   \n",
      " 5   obsReviewed      1121 non-null   bool   \n",
      " 6   locationPrivate  1121 non-null   bool   \n",
      " 7   exoticCategory   4 non-null      object \n",
      "dtypes: bool(3), float64(3), object(2)\n",
      "memory usage: 55.8+ KB\n"
     ]
    }
   ],
   "source": [
    "# exploration\n",
    "\n",
    "# dataset summary\n",
    "df_processed.info()"
   ],
   "metadata": {
    "collapsed": false
   }
  },
  {
   "cell_type": "code",
   "execution_count": 30,
   "outputs": [
    {
     "data": {
      "text/plain": "obsDt                 0\nhowMany               9\nlat                   0\nlng                   0\nobsValid              0\nobsReviewed           0\nlocationPrivate       0\nexoticCategory     1117\ndtype: int64"
     },
     "execution_count": 30,
     "metadata": {},
     "output_type": "execute_result"
    }
   ],
   "source": [
    "# check for missing values in all the columns\n",
    "df_processed.isnull().sum()"
   ],
   "metadata": {
    "collapsed": false
   }
  },
  {
   "cell_type": "code",
   "execution_count": 31,
   "outputs": [
    {
     "data": {
      "text/plain": "              obsDt  howMany        lat        lng  obsValid  obsReviewed  \\\n0  2023-02-20 22:04      5.0  25.030915  75.073937      True        False   \n1  2023-02-20 22:04      6.0  25.030915  75.073937      True        False   \n2  2023-02-20 22:04      2.0  25.030915  75.073937      True        False   \n3  2023-02-20 22:04     19.0  25.030915  75.073937      True        False   \n4  2023-02-20 22:04     22.0  25.030915  75.073937      True        False   \n\n   locationPrivate  exoticCategory_N  exoticCategory_X  \n0             True                 0                 0  \n1             True                 0                 0  \n2             True                 0                 0  \n3             True                 0                 0  \n4             True                 0                 0  ",
      "text/html": "<div>\n<style scoped>\n    .dataframe tbody tr th:only-of-type {\n        vertical-align: middle;\n    }\n\n    .dataframe tbody tr th {\n        vertical-align: top;\n    }\n\n    .dataframe thead th {\n        text-align: right;\n    }\n</style>\n<table border=\"1\" class=\"dataframe\">\n  <thead>\n    <tr style=\"text-align: right;\">\n      <th></th>\n      <th>obsDt</th>\n      <th>howMany</th>\n      <th>lat</th>\n      <th>lng</th>\n      <th>obsValid</th>\n      <th>obsReviewed</th>\n      <th>locationPrivate</th>\n      <th>exoticCategory_N</th>\n      <th>exoticCategory_X</th>\n    </tr>\n  </thead>\n  <tbody>\n    <tr>\n      <th>0</th>\n      <td>2023-02-20 22:04</td>\n      <td>5.0</td>\n      <td>25.030915</td>\n      <td>75.073937</td>\n      <td>True</td>\n      <td>False</td>\n      <td>True</td>\n      <td>0</td>\n      <td>0</td>\n    </tr>\n    <tr>\n      <th>1</th>\n      <td>2023-02-20 22:04</td>\n      <td>6.0</td>\n      <td>25.030915</td>\n      <td>75.073937</td>\n      <td>True</td>\n      <td>False</td>\n      <td>True</td>\n      <td>0</td>\n      <td>0</td>\n    </tr>\n    <tr>\n      <th>2</th>\n      <td>2023-02-20 22:04</td>\n      <td>2.0</td>\n      <td>25.030915</td>\n      <td>75.073937</td>\n      <td>True</td>\n      <td>False</td>\n      <td>True</td>\n      <td>0</td>\n      <td>0</td>\n    </tr>\n    <tr>\n      <th>3</th>\n      <td>2023-02-20 22:04</td>\n      <td>19.0</td>\n      <td>25.030915</td>\n      <td>75.073937</td>\n      <td>True</td>\n      <td>False</td>\n      <td>True</td>\n      <td>0</td>\n      <td>0</td>\n    </tr>\n    <tr>\n      <th>4</th>\n      <td>2023-02-20 22:04</td>\n      <td>22.0</td>\n      <td>25.030915</td>\n      <td>75.073937</td>\n      <td>True</td>\n      <td>False</td>\n      <td>True</td>\n      <td>0</td>\n      <td>0</td>\n    </tr>\n  </tbody>\n</table>\n</div>"
     },
     "execution_count": 31,
     "metadata": {},
     "output_type": "execute_result"
    }
   ],
   "source": [
    "# one hot encode \"exoticCategory\"\n",
    "# \"N\" means naturalized exotic species\n",
    "# \"X\" means escapee exotic species\n",
    "# If missing it is not a exotic species, no need for imputation\n",
    "df_processed = pd.get_dummies(df_processed, columns=['exoticCategory'])\n",
    "df_processed.head()"
   ],
   "metadata": {
    "collapsed": false
   }
  },
  {
   "cell_type": "code",
   "execution_count": 32,
   "outputs": [
    {
     "data": {
      "text/plain": "              obsDt  howMany        lat        lng  obsValid  obsReviewed  \\\n0  2023-02-20 22:04      5.0  25.030915  75.073937         1            0   \n1  2023-02-20 22:04      6.0  25.030915  75.073937         1            0   \n2  2023-02-20 22:04      2.0  25.030915  75.073937         1            0   \n3  2023-02-20 22:04     19.0  25.030915  75.073937         1            0   \n4  2023-02-20 22:04     22.0  25.030915  75.073937         1            0   \n\n   locationPrivate  exoticCategory_N  exoticCategory_X  \n0                1                 0                 0  \n1                1                 0                 0  \n2                1                 0                 0  \n3                1                 0                 0  \n4                1                 0                 0  ",
      "text/html": "<div>\n<style scoped>\n    .dataframe tbody tr th:only-of-type {\n        vertical-align: middle;\n    }\n\n    .dataframe tbody tr th {\n        vertical-align: top;\n    }\n\n    .dataframe thead th {\n        text-align: right;\n    }\n</style>\n<table border=\"1\" class=\"dataframe\">\n  <thead>\n    <tr style=\"text-align: right;\">\n      <th></th>\n      <th>obsDt</th>\n      <th>howMany</th>\n      <th>lat</th>\n      <th>lng</th>\n      <th>obsValid</th>\n      <th>obsReviewed</th>\n      <th>locationPrivate</th>\n      <th>exoticCategory_N</th>\n      <th>exoticCategory_X</th>\n    </tr>\n  </thead>\n  <tbody>\n    <tr>\n      <th>0</th>\n      <td>2023-02-20 22:04</td>\n      <td>5.0</td>\n      <td>25.030915</td>\n      <td>75.073937</td>\n      <td>1</td>\n      <td>0</td>\n      <td>1</td>\n      <td>0</td>\n      <td>0</td>\n    </tr>\n    <tr>\n      <th>1</th>\n      <td>2023-02-20 22:04</td>\n      <td>6.0</td>\n      <td>25.030915</td>\n      <td>75.073937</td>\n      <td>1</td>\n      <td>0</td>\n      <td>1</td>\n      <td>0</td>\n      <td>0</td>\n    </tr>\n    <tr>\n      <th>2</th>\n      <td>2023-02-20 22:04</td>\n      <td>2.0</td>\n      <td>25.030915</td>\n      <td>75.073937</td>\n      <td>1</td>\n      <td>0</td>\n      <td>1</td>\n      <td>0</td>\n      <td>0</td>\n    </tr>\n    <tr>\n      <th>3</th>\n      <td>2023-02-20 22:04</td>\n      <td>19.0</td>\n      <td>25.030915</td>\n      <td>75.073937</td>\n      <td>1</td>\n      <td>0</td>\n      <td>1</td>\n      <td>0</td>\n      <td>0</td>\n    </tr>\n    <tr>\n      <th>4</th>\n      <td>2023-02-20 22:04</td>\n      <td>22.0</td>\n      <td>25.030915</td>\n      <td>75.073937</td>\n      <td>1</td>\n      <td>0</td>\n      <td>1</td>\n      <td>0</td>\n      <td>0</td>\n    </tr>\n  </tbody>\n</table>\n</div>"
     },
     "execution_count": 32,
     "metadata": {},
     "output_type": "execute_result"
    }
   ],
   "source": [
    "# True and false to 1 and 0\n",
    "df_processed['obsValid'] = df_processed['obsValid'].astype(int)\n",
    "df_processed['obsReviewed'] = df_processed['obsReviewed'].astype(int)\n",
    "df_processed['locationPrivate'] = df_processed['locationPrivate'].astype(int)\n",
    "\n",
    "df_processed.head()"
   ],
   "metadata": {
    "collapsed": false
   }
  },
  {
   "cell_type": "code",
   "execution_count": 33,
   "outputs": [
    {
     "data": {
      "text/plain": "   obsDt  howMany        lat        lng  obsValid  obsReviewed  \\\n0  79440      5.0  25.030915  75.073937         1            0   \n1  79440      6.0  25.030915  75.073937         1            0   \n2  79440      2.0  25.030915  75.073937         1            0   \n3  79440     19.0  25.030915  75.073937         1            0   \n4  79440     22.0  25.030915  75.073937         1            0   \n\n   locationPrivate  exoticCategory_N  exoticCategory_X  \n0                1                 0                 0  \n1                1                 0                 0  \n2                1                 0                 0  \n3                1                 0                 0  \n4                1                 0                 0  ",
      "text/html": "<div>\n<style scoped>\n    .dataframe tbody tr th:only-of-type {\n        vertical-align: middle;\n    }\n\n    .dataframe tbody tr th {\n        vertical-align: top;\n    }\n\n    .dataframe thead th {\n        text-align: right;\n    }\n</style>\n<table border=\"1\" class=\"dataframe\">\n  <thead>\n    <tr style=\"text-align: right;\">\n      <th></th>\n      <th>obsDt</th>\n      <th>howMany</th>\n      <th>lat</th>\n      <th>lng</th>\n      <th>obsValid</th>\n      <th>obsReviewed</th>\n      <th>locationPrivate</th>\n      <th>exoticCategory_N</th>\n      <th>exoticCategory_X</th>\n    </tr>\n  </thead>\n  <tbody>\n    <tr>\n      <th>0</th>\n      <td>79440</td>\n      <td>5.0</td>\n      <td>25.030915</td>\n      <td>75.073937</td>\n      <td>1</td>\n      <td>0</td>\n      <td>1</td>\n      <td>0</td>\n      <td>0</td>\n    </tr>\n    <tr>\n      <th>1</th>\n      <td>79440</td>\n      <td>6.0</td>\n      <td>25.030915</td>\n      <td>75.073937</td>\n      <td>1</td>\n      <td>0</td>\n      <td>1</td>\n      <td>0</td>\n      <td>0</td>\n    </tr>\n    <tr>\n      <th>2</th>\n      <td>79440</td>\n      <td>2.0</td>\n      <td>25.030915</td>\n      <td>75.073937</td>\n      <td>1</td>\n      <td>0</td>\n      <td>1</td>\n      <td>0</td>\n      <td>0</td>\n    </tr>\n    <tr>\n      <th>3</th>\n      <td>79440</td>\n      <td>19.0</td>\n      <td>25.030915</td>\n      <td>75.073937</td>\n      <td>1</td>\n      <td>0</td>\n      <td>1</td>\n      <td>0</td>\n      <td>0</td>\n    </tr>\n    <tr>\n      <th>4</th>\n      <td>79440</td>\n      <td>22.0</td>\n      <td>25.030915</td>\n      <td>75.073937</td>\n      <td>1</td>\n      <td>0</td>\n      <td>1</td>\n      <td>0</td>\n      <td>0</td>\n    </tr>\n  </tbody>\n</table>\n</div>"
     },
     "execution_count": 33,
     "metadata": {},
     "output_type": "execute_result"
    }
   ],
   "source": [
    "# Convert date to number of days since a epoch\n",
    "from datetime import datetime\n",
    "\n",
    "# converter function\n",
    "def converter(date_string):\n",
    "  epoch = datetime(2023,1,1)\n",
    "  dt = datetime.strptime(date_string, '%Y-%m-%d %H:%M')\n",
    "  delta = dt - epoch\n",
    "  return delta.seconds\n",
    "\n",
    "# apply converter\n",
    "df_processed['obsDt'] = df_processed['obsDt'].apply(converter)\n",
    "\n",
    "df_processed.head()"
   ],
   "metadata": {
    "collapsed": false
   }
  },
  {
   "cell_type": "code",
   "execution_count": 34,
   "outputs": [],
   "source": [
    "# imputation for howMany\n",
    "from sklearn.impute import KNNImputer\n",
    "\n",
    "imputer = KNNImputer(n_neighbors=2, weights=\"uniform\")\n",
    "\n",
    "df_processed = pd.DataFrame(data=imputer.fit_transform(df_processed), columns=df_processed.columns)"
   ],
   "metadata": {
    "collapsed": false
   }
  },
  {
   "cell_type": "code",
   "execution_count": 35,
   "outputs": [
    {
     "data": {
      "text/plain": "      obsDt   howMany       lat      lng  obsValid  obsReviewed  \\\n0  3.331301 -0.024250  0.254566 -0.92833       0.0    -0.339739   \n1  3.331301 -0.017559  0.254566 -0.92833       0.0    -0.339739   \n2  3.331301 -0.044325  0.254566 -0.92833       0.0    -0.339739   \n3  3.331301  0.069432  0.254566 -0.92833       0.0    -0.339739   \n4  3.331301  0.089507  0.254566 -0.92833       0.0    -0.339739   \n\n   locationPrivate  exoticCategory_N  exoticCategory_X  \n0         0.870088         -0.029881         -0.051801  \n1         0.870088         -0.029881         -0.051801  \n2         0.870088         -0.029881         -0.051801  \n3         0.870088         -0.029881         -0.051801  \n4         0.870088         -0.029881         -0.051801  ",
      "text/html": "<div>\n<style scoped>\n    .dataframe tbody tr th:only-of-type {\n        vertical-align: middle;\n    }\n\n    .dataframe tbody tr th {\n        vertical-align: top;\n    }\n\n    .dataframe thead th {\n        text-align: right;\n    }\n</style>\n<table border=\"1\" class=\"dataframe\">\n  <thead>\n    <tr style=\"text-align: right;\">\n      <th></th>\n      <th>obsDt</th>\n      <th>howMany</th>\n      <th>lat</th>\n      <th>lng</th>\n      <th>obsValid</th>\n      <th>obsReviewed</th>\n      <th>locationPrivate</th>\n      <th>exoticCategory_N</th>\n      <th>exoticCategory_X</th>\n    </tr>\n  </thead>\n  <tbody>\n    <tr>\n      <th>0</th>\n      <td>3.331301</td>\n      <td>-0.024250</td>\n      <td>0.254566</td>\n      <td>-0.92833</td>\n      <td>0.0</td>\n      <td>-0.339739</td>\n      <td>0.870088</td>\n      <td>-0.029881</td>\n      <td>-0.051801</td>\n    </tr>\n    <tr>\n      <th>1</th>\n      <td>3.331301</td>\n      <td>-0.017559</td>\n      <td>0.254566</td>\n      <td>-0.92833</td>\n      <td>0.0</td>\n      <td>-0.339739</td>\n      <td>0.870088</td>\n      <td>-0.029881</td>\n      <td>-0.051801</td>\n    </tr>\n    <tr>\n      <th>2</th>\n      <td>3.331301</td>\n      <td>-0.044325</td>\n      <td>0.254566</td>\n      <td>-0.92833</td>\n      <td>0.0</td>\n      <td>-0.339739</td>\n      <td>0.870088</td>\n      <td>-0.029881</td>\n      <td>-0.051801</td>\n    </tr>\n    <tr>\n      <th>3</th>\n      <td>3.331301</td>\n      <td>0.069432</td>\n      <td>0.254566</td>\n      <td>-0.92833</td>\n      <td>0.0</td>\n      <td>-0.339739</td>\n      <td>0.870088</td>\n      <td>-0.029881</td>\n      <td>-0.051801</td>\n    </tr>\n    <tr>\n      <th>4</th>\n      <td>3.331301</td>\n      <td>0.089507</td>\n      <td>0.254566</td>\n      <td>-0.92833</td>\n      <td>0.0</td>\n      <td>-0.339739</td>\n      <td>0.870088</td>\n      <td>-0.029881</td>\n      <td>-0.051801</td>\n    </tr>\n  </tbody>\n</table>\n</div>"
     },
     "execution_count": 35,
     "metadata": {},
     "output_type": "execute_result"
    }
   ],
   "source": [
    "# Standardization\n",
    "from sklearn.preprocessing import StandardScaler\n",
    "\n",
    "# Using the same scaler\n",
    "scaler = StandardScaler()\n",
    "\n",
    "df_processed = pd.DataFrame(data=scaler.fit_transform(df_processed), columns=df_processed.columns)\n",
    "\n",
    "df_processed.head()"
   ],
   "metadata": {
    "collapsed": false
   }
  },
  {
   "cell_type": "code",
   "execution_count": 36,
   "outputs": [],
   "source": [
    "#GMM\n",
    "import numpy as np\n",
    "# fit with k-means\n",
    "from sklearn.mixture import GaussianMixture\n",
    "from sklearn.metrics import silhouette_score\n",
    "\n",
    "lowest_bic = np.infty\n",
    "bic = []\n",
    "\n",
    "n_components_range = range(1, 100)\n",
    "\n",
    "for n_components in n_components_range:\n",
    "    # Fit a Gaussian mixture with EM\n",
    "    gmm = GaussianMixture(n_components=n_components)\n",
    "    gmm.fit(df_processed)\n",
    "    bic.append(gmm.bic(df_processed))\n",
    "    if bic[-1] < lowest_bic:\n",
    "        lowest_bic = bic[-1]"
   ],
   "metadata": {
    "collapsed": false
   }
  },
  {
   "cell_type": "code",
   "execution_count": 37,
   "outputs": [
    {
     "data": {
      "text/plain": "<Figure size 1000x700 with 1 Axes>",
      "image/png": "[encoded data removed]"
     },
     "metadata": {},
     "output_type": "display_data"
    }
   ],
   "source": [
    "# plotting\n",
    "import matplotlib.pyplot as plt\n",
    "%matplotlib inline\n",
    "\n",
    "plt.figure(figsize=(10,7))\n",
    "plt.plot(n_components_range, bic, '-o')\n",
    "plt.xlabel('Number of Gaussians')\n",
    "plt.ylabel('BIC')\n",
    "plt.show()"
   ],
   "metadata": {
    "collapsed": false
   }
  },
  {
   "cell_type": "code",
   "execution_count": 38,
   "outputs": [
    {
     "name": "stderr",
     "output_type": "stream",
     "text": [
      "/home/david/anaconda3/envs/tf/lib/python3.10/site-packages/sklearn/cluster/_kmeans.py:870: FutureWarning: The default value of `n_init` will change from 10 to 'auto' in 1.4. Set the value of `n_init` explicitly to suppress the warning\n",
      "  warnings.warn(\n",
      "/home/david/anaconda3/envs/tf/lib/python3.10/site-packages/sklearn/cluster/_kmeans.py:870: FutureWarning: The default value of `n_init` will change from 10 to 'auto' in 1.4. Set the value of `n_init` explicitly to suppress the warning\n",
      "  warnings.warn(\n",
      "/home/david/anaconda3/envs/tf/lib/python3.10/site-packages/sklearn/cluster/_kmeans.py:870: FutureWarning: The default value of `n_init` will change from 10 to 'auto' in 1.4. Set the value of `n_init` explicitly to suppress the warning\n",
      "  warnings.warn(\n",
      "/home/david/anaconda3/envs/tf/lib/python3.10/site-packages/sklearn/cluster/_kmeans.py:870: FutureWarning: The default value of `n_init` will change from 10 to 'auto' in 1.4. Set the value of `n_init` explicitly to suppress the warning\n",
      "  warnings.warn(\n",
      "/home/david/anaconda3/envs/tf/lib/python3.10/site-packages/sklearn/cluster/_kmeans.py:870: FutureWarning: The default value of `n_init` will change from 10 to 'auto' in 1.4. Set the value of `n_init` explicitly to suppress the warning\n",
      "  warnings.warn(\n",
      "/home/david/anaconda3/envs/tf/lib/python3.10/site-packages/sklearn/cluster/_kmeans.py:870: FutureWarning: The default value of `n_init` will change from 10 to 'auto' in 1.4. Set the value of `n_init` explicitly to suppress the warning\n",
      "  warnings.warn(\n",
      "/home/david/anaconda3/envs/tf/lib/python3.10/site-packages/sklearn/cluster/_kmeans.py:870: FutureWarning: The default value of `n_init` will change from 10 to 'auto' in 1.4. Set the value of `n_init` explicitly to suppress the warning\n",
      "  warnings.warn(\n",
      "/home/david/anaconda3/envs/tf/lib/python3.10/site-packages/sklearn/cluster/_kmeans.py:870: FutureWarning: The default value of `n_init` will change from 10 to 'auto' in 1.4. Set the value of `n_init` explicitly to suppress the warning\n",
      "  warnings.warn(\n",
      "/home/david/anaconda3/envs/tf/lib/python3.10/site-packages/sklearn/cluster/_kmeans.py:870: FutureWarning: The default value of `n_init` will change from 10 to 'auto' in 1.4. Set the value of `n_init` explicitly to suppress the warning\n",
      "  warnings.warn(\n",
      "/home/david/anaconda3/envs/tf/lib/python3.10/site-packages/sklearn/cluster/_kmeans.py:870: FutureWarning: The default value of `n_init` will change from 10 to 'auto' in 1.4. Set the value of `n_init` explicitly to suppress the warning\n",
      "  warnings.warn(\n",
      "/home/david/anaconda3/envs/tf/lib/python3.10/site-packages/sklearn/cluster/_kmeans.py:870: FutureWarning: The default value of `n_init` will change from 10 to 'auto' in 1.4. Set the value of `n_init` explicitly to suppress the warning\n",
      "  warnings.warn(\n",
      "/home/david/anaconda3/envs/tf/lib/python3.10/site-packages/sklearn/cluster/_kmeans.py:870: FutureWarning: The default value of `n_init` will change from 10 to 'auto' in 1.4. Set the value of `n_init` explicitly to suppress the warning\n",
      "  warnings.warn(\n",
      "/home/david/anaconda3/envs/tf/lib/python3.10/site-packages/sklearn/cluster/_kmeans.py:870: FutureWarning: The default value of `n_init` will change from 10 to 'auto' in 1.4. Set the value of `n_init` explicitly to suppress the warning\n",
      "  warnings.warn(\n",
      "/home/david/anaconda3/envs/tf/lib/python3.10/site-packages/sklearn/cluster/_kmeans.py:870: FutureWarning: The default value of `n_init` will change from 10 to 'auto' in 1.4. Set the value of `n_init` explicitly to suppress the warning\n",
      "  warnings.warn(\n",
      "/home/david/anaconda3/envs/tf/lib/python3.10/site-packages/sklearn/cluster/_kmeans.py:870: FutureWarning: The default value of `n_init` will change from 10 to 'auto' in 1.4. Set the value of `n_init` explicitly to suppress the warning\n",
      "  warnings.warn(\n",
      "/home/david/anaconda3/envs/tf/lib/python3.10/site-packages/sklearn/cluster/_kmeans.py:870: FutureWarning: The default value of `n_init` will change from 10 to 'auto' in 1.4. Set the value of `n_init` explicitly to suppress the warning\n",
      "  warnings.warn(\n",
      "/home/david/anaconda3/envs/tf/lib/python3.10/site-packages/sklearn/cluster/_kmeans.py:870: FutureWarning: The default value of `n_init` will change from 10 to 'auto' in 1.4. Set the value of `n_init` explicitly to suppress the warning\n",
      "  warnings.warn(\n",
      "/home/david/anaconda3/envs/tf/lib/python3.10/site-packages/sklearn/cluster/_kmeans.py:870: FutureWarning: The default value of `n_init` will change from 10 to 'auto' in 1.4. Set the value of `n_init` explicitly to suppress the warning\n",
      "  warnings.warn(\n",
      "/home/david/anaconda3/envs/tf/lib/python3.10/site-packages/sklearn/cluster/_kmeans.py:870: FutureWarning: The default value of `n_init` will change from 10 to 'auto' in 1.4. Set the value of `n_init` explicitly to suppress the warning\n",
      "  warnings.warn(\n",
      "/home/david/anaconda3/envs/tf/lib/python3.10/site-packages/sklearn/cluster/_kmeans.py:870: FutureWarning: The default value of `n_init` will change from 10 to 'auto' in 1.4. Set the value of `n_init` explicitly to suppress the warning\n",
      "  warnings.warn(\n",
      "/home/david/anaconda3/envs/tf/lib/python3.10/site-packages/sklearn/cluster/_kmeans.py:870: FutureWarning: The default value of `n_init` will change from 10 to 'auto' in 1.4. Set the value of `n_init` explicitly to suppress the warning\n",
      "  warnings.warn(\n",
      "/home/david/anaconda3/envs/tf/lib/python3.10/site-packages/sklearn/cluster/_kmeans.py:870: FutureWarning: The default value of `n_init` will change from 10 to 'auto' in 1.4. Set the value of `n_init` explicitly to suppress the warning\n",
      "  warnings.warn(\n",
      "/home/david/anaconda3/envs/tf/lib/python3.10/site-packages/sklearn/cluster/_kmeans.py:870: FutureWarning: The default value of `n_init` will change from 10 to 'auto' in 1.4. Set the value of `n_init` explicitly to suppress the warning\n",
      "  warnings.warn(\n",
      "/home/david/anaconda3/envs/tf/lib/python3.10/site-packages/sklearn/cluster/_kmeans.py:870: FutureWarning: The default value of `n_init` will change from 10 to 'auto' in 1.4. Set the value of `n_init` explicitly to suppress the warning\n",
      "  warnings.warn(\n",
      "/home/david/anaconda3/envs/tf/lib/python3.10/site-packages/sklearn/cluster/_kmeans.py:870: FutureWarning: The default value of `n_init` will change from 10 to 'auto' in 1.4. Set the value of `n_init` explicitly to suppress the warning\n",
      "  warnings.warn(\n",
      "/home/david/anaconda3/envs/tf/lib/python3.10/site-packages/sklearn/cluster/_kmeans.py:870: FutureWarning: The default value of `n_init` will change from 10 to 'auto' in 1.4. Set the value of `n_init` explicitly to suppress the warning\n",
      "  warnings.warn(\n",
      "/home/david/anaconda3/envs/tf/lib/python3.10/site-packages/sklearn/cluster/_kmeans.py:870: FutureWarning: The default value of `n_init` will change from 10 to 'auto' in 1.4. Set the value of `n_init` explicitly to suppress the warning\n",
      "  warnings.warn(\n",
      "/home/david/anaconda3/envs/tf/lib/python3.10/site-packages/sklearn/cluster/_kmeans.py:870: FutureWarning: The default value of `n_init` will change from 10 to 'auto' in 1.4. Set the value of `n_init` explicitly to suppress the warning\n",
      "  warnings.warn(\n",
      "/home/david/anaconda3/envs/tf/lib/python3.10/site-packages/sklearn/cluster/_kmeans.py:870: FutureWarning: The default value of `n_init` will change from 10 to 'auto' in 1.4. Set the value of `n_init` explicitly to suppress the warning\n",
      "  warnings.warn(\n",
      "/home/david/anaconda3/envs/tf/lib/python3.10/site-packages/sklearn/cluster/_kmeans.py:870: FutureWarning: The default value of `n_init` will change from 10 to 'auto' in 1.4. Set the value of `n_init` explicitly to suppress the warning\n",
      "  warnings.warn(\n",
      "/home/david/anaconda3/envs/tf/lib/python3.10/site-packages/sklearn/cluster/_kmeans.py:870: FutureWarning: The default value of `n_init` will change from 10 to 'auto' in 1.4. Set the value of `n_init` explicitly to suppress the warning\n",
      "  warnings.warn(\n",
      "/home/david/anaconda3/envs/tf/lib/python3.10/site-packages/sklearn/cluster/_kmeans.py:870: FutureWarning: The default value of `n_init` will change from 10 to 'auto' in 1.4. Set the value of `n_init` explicitly to suppress the warning\n",
      "  warnings.warn(\n",
      "/home/david/anaconda3/envs/tf/lib/python3.10/site-packages/sklearn/cluster/_kmeans.py:870: FutureWarning: The default value of `n_init` will change from 10 to 'auto' in 1.4. Set the value of `n_init` explicitly to suppress the warning\n",
      "  warnings.warn(\n",
      "/home/david/anaconda3/envs/tf/lib/python3.10/site-packages/sklearn/cluster/_kmeans.py:870: FutureWarning: The default value of `n_init` will change from 10 to 'auto' in 1.4. Set the value of `n_init` explicitly to suppress the warning\n",
      "  warnings.warn(\n",
      "/home/david/anaconda3/envs/tf/lib/python3.10/site-packages/sklearn/cluster/_kmeans.py:870: FutureWarning: The default value of `n_init` will change from 10 to 'auto' in 1.4. Set the value of `n_init` explicitly to suppress the warning\n",
      "  warnings.warn(\n",
      "/home/david/anaconda3/envs/tf/lib/python3.10/site-packages/sklearn/cluster/_kmeans.py:870: FutureWarning: The default value of `n_init` will change from 10 to 'auto' in 1.4. Set the value of `n_init` explicitly to suppress the warning\n",
      "  warnings.warn(\n",
      "/home/david/anaconda3/envs/tf/lib/python3.10/site-packages/sklearn/cluster/_kmeans.py:870: FutureWarning: The default value of `n_init` will change from 10 to 'auto' in 1.4. Set the value of `n_init` explicitly to suppress the warning\n",
      "  warnings.warn(\n",
      "/home/david/anaconda3/envs/tf/lib/python3.10/site-packages/sklearn/cluster/_kmeans.py:870: FutureWarning: The default value of `n_init` will change from 10 to 'auto' in 1.4. Set the value of `n_init` explicitly to suppress the warning\n",
      "  warnings.warn(\n",
      "/home/david/anaconda3/envs/tf/lib/python3.10/site-packages/sklearn/cluster/_kmeans.py:870: FutureWarning: The default value of `n_init` will change from 10 to 'auto' in 1.4. Set the value of `n_init` explicitly to suppress the warning\n",
      "  warnings.warn(\n",
      "/home/david/anaconda3/envs/tf/lib/python3.10/site-packages/sklearn/cluster/_kmeans.py:870: FutureWarning: The default value of `n_init` will change from 10 to 'auto' in 1.4. Set the value of `n_init` explicitly to suppress the warning\n",
      "  warnings.warn(\n",
      "/home/david/anaconda3/envs/tf/lib/python3.10/site-packages/sklearn/cluster/_kmeans.py:870: FutureWarning: The default value of `n_init` will change from 10 to 'auto' in 1.4. Set the value of `n_init` explicitly to suppress the warning\n",
      "  warnings.warn(\n",
      "/home/david/anaconda3/envs/tf/lib/python3.10/site-packages/sklearn/cluster/_kmeans.py:870: FutureWarning: The default value of `n_init` will change from 10 to 'auto' in 1.4. Set the value of `n_init` explicitly to suppress the warning\n",
      "  warnings.warn(\n",
      "/home/david/anaconda3/envs/tf/lib/python3.10/site-packages/sklearn/cluster/_kmeans.py:870: FutureWarning: The default value of `n_init` will change from 10 to 'auto' in 1.4. Set the value of `n_init` explicitly to suppress the warning\n",
      "  warnings.warn(\n",
      "/home/david/anaconda3/envs/tf/lib/python3.10/site-packages/sklearn/cluster/_kmeans.py:870: FutureWarning: The default value of `n_init` will change from 10 to 'auto' in 1.4. Set the value of `n_init` explicitly to suppress the warning\n",
      "  warnings.warn(\n",
      "/home/david/anaconda3/envs/tf/lib/python3.10/site-packages/sklearn/cluster/_kmeans.py:870: FutureWarning: The default value of `n_init` will change from 10 to 'auto' in 1.4. Set the value of `n_init` explicitly to suppress the warning\n",
      "  warnings.warn(\n",
      "/home/david/anaconda3/envs/tf/lib/python3.10/site-packages/sklearn/cluster/_kmeans.py:870: FutureWarning: The default value of `n_init` will change from 10 to 'auto' in 1.4. Set the value of `n_init` explicitly to suppress the warning\n",
      "  warnings.warn(\n",
      "/home/david/anaconda3/envs/tf/lib/python3.10/site-packages/sklearn/cluster/_kmeans.py:870: FutureWarning: The default value of `n_init` will change from 10 to 'auto' in 1.4. Set the value of `n_init` explicitly to suppress the warning\n",
      "  warnings.warn(\n",
      "/home/david/anaconda3/envs/tf/lib/python3.10/site-packages/sklearn/cluster/_kmeans.py:870: FutureWarning: The default value of `n_init` will change from 10 to 'auto' in 1.4. Set the value of `n_init` explicitly to suppress the warning\n",
      "  warnings.warn(\n",
      "/home/david/anaconda3/envs/tf/lib/python3.10/site-packages/sklearn/cluster/_kmeans.py:870: FutureWarning: The default value of `n_init` will change from 10 to 'auto' in 1.4. Set the value of `n_init` explicitly to suppress the warning\n",
      "  warnings.warn(\n",
      "/home/david/anaconda3/envs/tf/lib/python3.10/site-packages/sklearn/cluster/_kmeans.py:870: FutureWarning: The default value of `n_init` will change from 10 to 'auto' in 1.4. Set the value of `n_init` explicitly to suppress the warning\n",
      "  warnings.warn(\n",
      "/home/david/anaconda3/envs/tf/lib/python3.10/site-packages/sklearn/cluster/_kmeans.py:870: FutureWarning: The default value of `n_init` will change from 10 to 'auto' in 1.4. Set the value of `n_init` explicitly to suppress the warning\n",
      "  warnings.warn(\n",
      "/home/david/anaconda3/envs/tf/lib/python3.10/site-packages/sklearn/cluster/_kmeans.py:870: FutureWarning: The default value of `n_init` will change from 10 to 'auto' in 1.4. Set the value of `n_init` explicitly to suppress the warning\n",
      "  warnings.warn(\n",
      "/home/david/anaconda3/envs/tf/lib/python3.10/site-packages/sklearn/cluster/_kmeans.py:870: FutureWarning: The default value of `n_init` will change from 10 to 'auto' in 1.4. Set the value of `n_init` explicitly to suppress the warning\n",
      "  warnings.warn(\n",
      "/home/david/anaconda3/envs/tf/lib/python3.10/site-packages/sklearn/cluster/_kmeans.py:870: FutureWarning: The default value of `n_init` will change from 10 to 'auto' in 1.4. Set the value of `n_init` explicitly to suppress the warning\n",
      "  warnings.warn(\n",
      "/home/david/anaconda3/envs/tf/lib/python3.10/site-packages/sklearn/cluster/_kmeans.py:870: FutureWarning: The default value of `n_init` will change from 10 to 'auto' in 1.4. Set the value of `n_init` explicitly to suppress the warning\n",
      "  warnings.warn(\n",
      "/home/david/anaconda3/envs/tf/lib/python3.10/site-packages/sklearn/cluster/_kmeans.py:870: FutureWarning: The default value of `n_init` will change from 10 to 'auto' in 1.4. Set the value of `n_init` explicitly to suppress the warning\n",
      "  warnings.warn(\n",
      "/home/david/anaconda3/envs/tf/lib/python3.10/site-packages/sklearn/cluster/_kmeans.py:870: FutureWarning: The default value of `n_init` will change from 10 to 'auto' in 1.4. Set the value of `n_init` explicitly to suppress the warning\n",
      "  warnings.warn(\n",
      "/home/david/anaconda3/envs/tf/lib/python3.10/site-packages/sklearn/cluster/_kmeans.py:870: FutureWarning: The default value of `n_init` will change from 10 to 'auto' in 1.4. Set the value of `n_init` explicitly to suppress the warning\n",
      "  warnings.warn(\n",
      "/home/david/anaconda3/envs/tf/lib/python3.10/site-packages/sklearn/cluster/_kmeans.py:870: FutureWarning: The default value of `n_init` will change from 10 to 'auto' in 1.4. Set the value of `n_init` explicitly to suppress the warning\n",
      "  warnings.warn(\n",
      "/home/david/anaconda3/envs/tf/lib/python3.10/site-packages/sklearn/cluster/_kmeans.py:870: FutureWarning: The default value of `n_init` will change from 10 to 'auto' in 1.4. Set the value of `n_init` explicitly to suppress the warning\n",
      "  warnings.warn(\n",
      "/home/david/anaconda3/envs/tf/lib/python3.10/site-packages/sklearn/cluster/_kmeans.py:870: FutureWarning: The default value of `n_init` will change from 10 to 'auto' in 1.4. Set the value of `n_init` explicitly to suppress the warning\n",
      "  warnings.warn(\n",
      "/home/david/anaconda3/envs/tf/lib/python3.10/site-packages/sklearn/cluster/_kmeans.py:870: FutureWarning: The default value of `n_init` will change from 10 to 'auto' in 1.4. Set the value of `n_init` explicitly to suppress the warning\n",
      "  warnings.warn(\n",
      "/home/david/anaconda3/envs/tf/lib/python3.10/site-packages/sklearn/cluster/_kmeans.py:870: FutureWarning: The default value of `n_init` will change from 10 to 'auto' in 1.4. Set the value of `n_init` explicitly to suppress the warning\n",
      "  warnings.warn(\n",
      "/home/david/anaconda3/envs/tf/lib/python3.10/site-packages/sklearn/cluster/_kmeans.py:870: FutureWarning: The default value of `n_init` will change from 10 to 'auto' in 1.4. Set the value of `n_init` explicitly to suppress the warning\n",
      "  warnings.warn(\n",
      "/home/david/anaconda3/envs/tf/lib/python3.10/site-packages/sklearn/cluster/_kmeans.py:870: FutureWarning: The default value of `n_init` will change from 10 to 'auto' in 1.4. Set the value of `n_init` explicitly to suppress the warning\n",
      "  warnings.warn(\n",
      "/home/david/anaconda3/envs/tf/lib/python3.10/site-packages/sklearn/cluster/_kmeans.py:870: FutureWarning: The default value of `n_init` will change from 10 to 'auto' in 1.4. Set the value of `n_init` explicitly to suppress the warning\n",
      "  warnings.warn(\n",
      "/home/david/anaconda3/envs/tf/lib/python3.10/site-packages/sklearn/cluster/_kmeans.py:870: FutureWarning: The default value of `n_init` will change from 10 to 'auto' in 1.4. Set the value of `n_init` explicitly to suppress the warning\n",
      "  warnings.warn(\n",
      "/home/david/anaconda3/envs/tf/lib/python3.10/site-packages/sklearn/cluster/_kmeans.py:870: FutureWarning: The default value of `n_init` will change from 10 to 'auto' in 1.4. Set the value of `n_init` explicitly to suppress the warning\n",
      "  warnings.warn(\n",
      "/home/david/anaconda3/envs/tf/lib/python3.10/site-packages/sklearn/cluster/_kmeans.py:870: FutureWarning: The default value of `n_init` will change from 10 to 'auto' in 1.4. Set the value of `n_init` explicitly to suppress the warning\n",
      "  warnings.warn(\n",
      "/home/david/anaconda3/envs/tf/lib/python3.10/site-packages/sklearn/cluster/_kmeans.py:870: FutureWarning: The default value of `n_init` will change from 10 to 'auto' in 1.4. Set the value of `n_init` explicitly to suppress the warning\n",
      "  warnings.warn(\n",
      "/home/david/anaconda3/envs/tf/lib/python3.10/site-packages/sklearn/cluster/_kmeans.py:870: FutureWarning: The default value of `n_init` will change from 10 to 'auto' in 1.4. Set the value of `n_init` explicitly to suppress the warning\n",
      "  warnings.warn(\n",
      "/home/david/anaconda3/envs/tf/lib/python3.10/site-packages/sklearn/cluster/_kmeans.py:870: FutureWarning: The default value of `n_init` will change from 10 to 'auto' in 1.4. Set the value of `n_init` explicitly to suppress the warning\n",
      "  warnings.warn(\n",
      "/home/david/anaconda3/envs/tf/lib/python3.10/site-packages/sklearn/cluster/_kmeans.py:870: FutureWarning: The default value of `n_init` will change from 10 to 'auto' in 1.4. Set the value of `n_init` explicitly to suppress the warning\n",
      "  warnings.warn(\n",
      "/home/david/anaconda3/envs/tf/lib/python3.10/site-packages/sklearn/cluster/_kmeans.py:870: FutureWarning: The default value of `n_init` will change from 10 to 'auto' in 1.4. Set the value of `n_init` explicitly to suppress the warning\n",
      "  warnings.warn(\n",
      "/home/david/anaconda3/envs/tf/lib/python3.10/site-packages/sklearn/cluster/_kmeans.py:870: FutureWarning: The default value of `n_init` will change from 10 to 'auto' in 1.4. Set the value of `n_init` explicitly to suppress the warning\n",
      "  warnings.warn(\n",
      "/home/david/anaconda3/envs/tf/lib/python3.10/site-packages/sklearn/cluster/_kmeans.py:870: FutureWarning: The default value of `n_init` will change from 10 to 'auto' in 1.4. Set the value of `n_init` explicitly to suppress the warning\n",
      "  warnings.warn(\n",
      "/home/david/anaconda3/envs/tf/lib/python3.10/site-packages/sklearn/cluster/_kmeans.py:870: FutureWarning: The default value of `n_init` will change from 10 to 'auto' in 1.4. Set the value of `n_init` explicitly to suppress the warning\n",
      "  warnings.warn(\n",
      "/home/david/anaconda3/envs/tf/lib/python3.10/site-packages/sklearn/cluster/_kmeans.py:870: FutureWarning: The default value of `n_init` will change from 10 to 'auto' in 1.4. Set the value of `n_init` explicitly to suppress the warning\n",
      "  warnings.warn(\n",
      "/home/david/anaconda3/envs/tf/lib/python3.10/site-packages/sklearn/cluster/_kmeans.py:870: FutureWarning: The default value of `n_init` will change from 10 to 'auto' in 1.4. Set the value of `n_init` explicitly to suppress the warning\n",
      "  warnings.warn(\n",
      "/home/david/anaconda3/envs/tf/lib/python3.10/site-packages/sklearn/cluster/_kmeans.py:870: FutureWarning: The default value of `n_init` will change from 10 to 'auto' in 1.4. Set the value of `n_init` explicitly to suppress the warning\n",
      "  warnings.warn(\n",
      "/home/david/anaconda3/envs/tf/lib/python3.10/site-packages/sklearn/cluster/_kmeans.py:870: FutureWarning: The default value of `n_init` will change from 10 to 'auto' in 1.4. Set the value of `n_init` explicitly to suppress the warning\n",
      "  warnings.warn(\n",
      "/home/david/anaconda3/envs/tf/lib/python3.10/site-packages/sklearn/cluster/_kmeans.py:870: FutureWarning: The default value of `n_init` will change from 10 to 'auto' in 1.4. Set the value of `n_init` explicitly to suppress the warning\n",
      "  warnings.warn(\n",
      "/home/david/anaconda3/envs/tf/lib/python3.10/site-packages/sklearn/cluster/_kmeans.py:870: FutureWarning: The default value of `n_init` will change from 10 to 'auto' in 1.4. Set the value of `n_init` explicitly to suppress the warning\n",
      "  warnings.warn(\n",
      "/home/david/anaconda3/envs/tf/lib/python3.10/site-packages/sklearn/cluster/_kmeans.py:870: FutureWarning: The default value of `n_init` will change from 10 to 'auto' in 1.4. Set the value of `n_init` explicitly to suppress the warning\n",
      "  warnings.warn(\n",
      "/home/david/anaconda3/envs/tf/lib/python3.10/site-packages/sklearn/cluster/_kmeans.py:870: FutureWarning: The default value of `n_init` will change from 10 to 'auto' in 1.4. Set the value of `n_init` explicitly to suppress the warning\n",
      "  warnings.warn(\n",
      "/home/david/anaconda3/envs/tf/lib/python3.10/site-packages/sklearn/cluster/_kmeans.py:870: FutureWarning: The default value of `n_init` will change from 10 to 'auto' in 1.4. Set the value of `n_init` explicitly to suppress the warning\n",
      "  warnings.warn(\n",
      "/home/david/anaconda3/envs/tf/lib/python3.10/site-packages/sklearn/cluster/_kmeans.py:870: FutureWarning: The default value of `n_init` will change from 10 to 'auto' in 1.4. Set the value of `n_init` explicitly to suppress the warning\n",
      "  warnings.warn(\n",
      "/home/david/anaconda3/envs/tf/lib/python3.10/site-packages/sklearn/cluster/_kmeans.py:870: FutureWarning: The default value of `n_init` will change from 10 to 'auto' in 1.4. Set the value of `n_init` explicitly to suppress the warning\n",
      "  warnings.warn(\n",
      "/home/david/anaconda3/envs/tf/lib/python3.10/site-packages/sklearn/cluster/_kmeans.py:870: FutureWarning: The default value of `n_init` will change from 10 to 'auto' in 1.4. Set the value of `n_init` explicitly to suppress the warning\n",
      "  warnings.warn(\n",
      "/home/david/anaconda3/envs/tf/lib/python3.10/site-packages/sklearn/cluster/_kmeans.py:870: FutureWarning: The default value of `n_init` will change from 10 to 'auto' in 1.4. Set the value of `n_init` explicitly to suppress the warning\n",
      "  warnings.warn(\n",
      "/home/david/anaconda3/envs/tf/lib/python3.10/site-packages/sklearn/cluster/_kmeans.py:870: FutureWarning: The default value of `n_init` will change from 10 to 'auto' in 1.4. Set the value of `n_init` explicitly to suppress the warning\n",
      "  warnings.warn(\n",
      "/home/david/anaconda3/envs/tf/lib/python3.10/site-packages/sklearn/cluster/_kmeans.py:870: FutureWarning: The default value of `n_init` will change from 10 to 'auto' in 1.4. Set the value of `n_init` explicitly to suppress the warning\n",
      "  warnings.warn(\n",
      "/home/david/anaconda3/envs/tf/lib/python3.10/site-packages/sklearn/cluster/_kmeans.py:870: FutureWarning: The default value of `n_init` will change from 10 to 'auto' in 1.4. Set the value of `n_init` explicitly to suppress the warning\n",
      "  warnings.warn(\n",
      "/home/david/anaconda3/envs/tf/lib/python3.10/site-packages/sklearn/cluster/_kmeans.py:870: FutureWarning: The default value of `n_init` will change from 10 to 'auto' in 1.4. Set the value of `n_init` explicitly to suppress the warning\n",
      "  warnings.warn(\n",
      "/home/david/anaconda3/envs/tf/lib/python3.10/site-packages/sklearn/cluster/_kmeans.py:870: FutureWarning: The default value of `n_init` will change from 10 to 'auto' in 1.4. Set the value of `n_init` explicitly to suppress the warning\n",
      "  warnings.warn(\n",
      "/home/david/anaconda3/envs/tf/lib/python3.10/site-packages/sklearn/cluster/_kmeans.py:870: FutureWarning: The default value of `n_init` will change from 10 to 'auto' in 1.4. Set the value of `n_init` explicitly to suppress the warning\n",
      "  warnings.warn(\n",
      "/home/david/anaconda3/envs/tf/lib/python3.10/site-packages/sklearn/cluster/_kmeans.py:870: FutureWarning: The default value of `n_init` will change from 10 to 'auto' in 1.4. Set the value of `n_init` explicitly to suppress the warning\n",
      "  warnings.warn(\n",
      "/home/david/anaconda3/envs/tf/lib/python3.10/site-packages/sklearn/cluster/_kmeans.py:870: FutureWarning: The default value of `n_init` will change from 10 to 'auto' in 1.4. Set the value of `n_init` explicitly to suppress the warning\n",
      "  warnings.warn(\n",
      "/home/david/anaconda3/envs/tf/lib/python3.10/site-packages/sklearn/cluster/_kmeans.py:870: FutureWarning: The default value of `n_init` will change from 10 to 'auto' in 1.4. Set the value of `n_init` explicitly to suppress the warning\n",
      "  warnings.warn(\n"
     ]
    }
   ],
   "source": [
    "# fit with k-means\n",
    "from sklearn.cluster import KMeans\n",
    "from sklearn.metrics import silhouette_score\n",
    "\n",
    "silhouette_avg = []\n",
    "Sum_of_squared_distances = []\n",
    "K = range(1,100)\n",
    "for k in K:\n",
    "    km = KMeans(n_clusters=k)\n",
    "    km = km.fit(df_processed)\n",
    "    Sum_of_squared_distances.append(km.inertia_)\n",
    "    if k>1:\n",
    "        silhouette_avg.append(silhouette_score(df_processed, km.labels_))"
   ],
   "metadata": {
    "collapsed": false
   }
  },
  {
   "cell_type": "code",
   "execution_count": 39,
   "outputs": [
    {
     "data": {
      "text/plain": "<Figure size 1400x500 with 2 Axes>",
      "image/png": "[encoded data removed]"
     },
     "metadata": {},
     "output_type": "display_data"
    }
   ],
   "source": [
    "import matplotlib.pyplot as plt\n",
    "%matplotlib inline\n",
    "\n",
    "plt.figure(figsize=(14,5))\n",
    "plt.subplot(121)\n",
    "plt.plot(K, Sum_of_squared_distances, 'bx-')\n",
    "plt.xlabel('contant k in k-means')\n",
    "plt.ylabel('sum of squareds distances')\n",
    "plt.title('Elbow Method For optimal k')\n",
    "\n",
    "plt.subplot(122)\n",
    "plt.plot(range(2,100), silhouette_avg, 'bx-')\n",
    "plt.xlabel('contant k in k-means')\n",
    "plt.ylabel('silhouette_score')\n",
    "plt.title('silhouette score method For optimal k')\n",
    "\n",
    "plt.show()"
   ],
   "metadata": {
    "collapsed": false
   }
  },
  {
   "cell_type": "code",
   "execution_count": 40,
   "outputs": [
    {
     "name": "stdout",
     "output_type": "stream",
     "text": [
      "For k-means the optimal k is 20\n",
      "For GMM optimal k is 13\n"
     ]
    }
   ],
   "source": [
    "print(\"For k-means the optimal k is {}\".format(np.argmax(silhouette_avg) + 2))\n",
    "print(\"For GMM optimal k is {}\".format(np.argmin(bic) + 1))"
   ],
   "metadata": {
    "collapsed": false
   }
  },
  {
   "cell_type": "code",
   "execution_count": 41,
   "outputs": [
    {
     "data": {
      "text/plain": "    obsDt  howMany  lat  lng  obsValid  obsReviewed  locationPrivate  \\\n0   34246        2   26   91         1            0                1   \n1   37620        2   12   79         1            0                0   \n2   79439       14   25   75         1            0                0   \n3   43194        2   23   83         1            1                0   \n4   29020        2   21   76         1            0                0   \n5   26220     4999   26   71         1            0                0   \n6   39459        5   27   75         1            0                1   \n7   36481        3   28   75         1            0                0   \n8   37152        2   11   81         1            0                0   \n9   39190       51   22   81         1            0                0   \n10  49993        5   25   81         1            1                1   \n11  33280        3   26   92         1            0                0   \n\n    exoticCategory_N  exoticCategory_X  \n0                  0                 0  \n1                  0                 0  \n2                  0                 0  \n3                  0                 0  \n4                  0                 0  \n5                  0                 0  \n6                  0                 0  \n7                  0                 0  \n8                  0                 0  \n9                  0                 0  \n10                 0                 0  \n11                 0                 0  ",
      "text/html": "<div>\n<style scoped>\n    .dataframe tbody tr th:only-of-type {\n        vertical-align: middle;\n    }\n\n    .dataframe tbody tr th {\n        vertical-align: top;\n    }\n\n    .dataframe thead th {\n        text-align: right;\n    }\n</style>\n<table border=\"1\" class=\"dataframe\">\n  <thead>\n    <tr style=\"text-align: right;\">\n      <th></th>\n      <th>obsDt</th>\n      <th>howMany</th>\n      <th>lat</th>\n      <th>lng</th>\n      <th>obsValid</th>\n      <th>obsReviewed</th>\n      <th>locationPrivate</th>\n      <th>exoticCategory_N</th>\n      <th>exoticCategory_X</th>\n    </tr>\n  </thead>\n  <tbody>\n    <tr>\n      <th>0</th>\n      <td>34246</td>\n      <td>2</td>\n      <td>26</td>\n      <td>91</td>\n      <td>1</td>\n      <td>0</td>\n      <td>1</td>\n      <td>0</td>\n      <td>0</td>\n    </tr>\n    <tr>\n      <th>1</th>\n      <td>37620</td>\n      <td>2</td>\n      <td>12</td>\n      <td>79</td>\n      <td>1</td>\n      <td>0</td>\n      <td>0</td>\n      <td>0</td>\n      <td>0</td>\n    </tr>\n    <tr>\n      <th>2</th>\n      <td>79439</td>\n      <td>14</td>\n      <td>25</td>\n      <td>75</td>\n      <td>1</td>\n      <td>0</td>\n      <td>0</td>\n      <td>0</td>\n      <td>0</td>\n    </tr>\n    <tr>\n      <th>3</th>\n      <td>43194</td>\n      <td>2</td>\n      <td>23</td>\n      <td>83</td>\n      <td>1</td>\n      <td>1</td>\n      <td>0</td>\n      <td>0</td>\n      <td>0</td>\n    </tr>\n    <tr>\n      <th>4</th>\n      <td>29020</td>\n      <td>2</td>\n      <td>21</td>\n      <td>76</td>\n      <td>1</td>\n      <td>0</td>\n      <td>0</td>\n      <td>0</td>\n      <td>0</td>\n    </tr>\n    <tr>\n      <th>5</th>\n      <td>26220</td>\n      <td>4999</td>\n      <td>26</td>\n      <td>71</td>\n      <td>1</td>\n      <td>0</td>\n      <td>0</td>\n      <td>0</td>\n      <td>0</td>\n    </tr>\n    <tr>\n      <th>6</th>\n      <td>39459</td>\n      <td>5</td>\n      <td>27</td>\n      <td>75</td>\n      <td>1</td>\n      <td>0</td>\n      <td>1</td>\n      <td>0</td>\n      <td>0</td>\n    </tr>\n    <tr>\n      <th>7</th>\n      <td>36481</td>\n      <td>3</td>\n      <td>28</td>\n      <td>75</td>\n      <td>1</td>\n      <td>0</td>\n      <td>0</td>\n      <td>0</td>\n      <td>0</td>\n    </tr>\n    <tr>\n      <th>8</th>\n      <td>37152</td>\n      <td>2</td>\n      <td>11</td>\n      <td>81</td>\n      <td>1</td>\n      <td>0</td>\n      <td>0</td>\n      <td>0</td>\n      <td>0</td>\n    </tr>\n    <tr>\n      <th>9</th>\n      <td>39190</td>\n      <td>51</td>\n      <td>22</td>\n      <td>81</td>\n      <td>1</td>\n      <td>0</td>\n      <td>0</td>\n      <td>0</td>\n      <td>0</td>\n    </tr>\n    <tr>\n      <th>10</th>\n      <td>49993</td>\n      <td>5</td>\n      <td>25</td>\n      <td>81</td>\n      <td>1</td>\n      <td>1</td>\n      <td>1</td>\n      <td>0</td>\n      <td>0</td>\n    </tr>\n    <tr>\n      <th>11</th>\n      <td>33280</td>\n      <td>3</td>\n      <td>26</td>\n      <td>92</td>\n      <td>1</td>\n      <td>0</td>\n      <td>0</td>\n      <td>0</td>\n      <td>0</td>\n    </tr>\n  </tbody>\n</table>\n</div>"
     },
     "execution_count": 41,
     "metadata": {},
     "output_type": "execute_result"
    }
   ],
   "source": [
    "# we look at the centroid of the GMM since the mean is more meaningful\n",
    "# build model based on k\n",
    "gmm = GaussianMixture(n_components=np.argmin(bic),n_init=10)\n",
    "gmm.fit(df_processed)\n",
    "\n",
    "# get centroids and reverse the standardization\n",
    "centroids = gmm.means_\n",
    "dt_c1 = pd.DataFrame(data=scaler.inverse_transform(centroids),columns=df_processed.columns)\n",
    "\n",
    "# convert to int for easy viewing\n",
    "dt_c1.astype(int)"
   ],
   "metadata": {
    "collapsed": false
   }
  },
  {
   "cell_type": "markdown",
   "source": [
    "While the optimum k doesn't correspond to any domain knowledge I know, GMM and k-mean are giving somewhat similar results for k-means. My guess is that the algorithm is picking up groups of bird watcher behavior. Also notably none of the centroids has exotic category and all of them have valid observation. The variation is mainly in date, location, number of birds observed, and whether the location is private. Finally, out of the centroids, private locations often correspond with a lower count of birds."
   ],
   "metadata": {
    "collapsed": false
   }
  },
  {
   "cell_type": "code",
   "execution_count": 42,
   "outputs": [
    {
     "name": "stdout",
     "output_type": "stream",
     "text": [
      "0.025\n",
      "Estimated number of clusters: 8\n",
      "Estimated number of noise points: 996\n",
      "0.050\n",
      "Estimated number of clusters: 10\n",
      "Estimated number of noise points: 957\n",
      "0.075\n",
      "Estimated number of clusters: 12\n",
      "Estimated number of noise points: 888\n",
      "0.100\n",
      "Estimated number of clusters: 15\n",
      "Estimated number of noise points: 829\n",
      "0.125\n",
      "Estimated number of clusters: 17\n",
      "Estimated number of noise points: 767\n",
      "0.150\n",
      "Estimated number of clusters: 17\n",
      "Estimated number of noise points: 732\n",
      "0.175\n",
      "Estimated number of clusters: 19\n",
      "Estimated number of noise points: 676\n",
      "0.200\n",
      "Estimated number of clusters: 18\n",
      "Estimated number of noise points: 655\n",
      "0.225\n",
      "Estimated number of clusters: 18\n",
      "Estimated number of noise points: 604\n",
      "0.250\n",
      "Estimated number of clusters: 16\n",
      "Estimated number of noise points: 576\n",
      "0.275\n",
      "Estimated number of clusters: 16\n",
      "Estimated number of noise points: 545\n",
      "0.300\n",
      "Estimated number of clusters: 13\n",
      "Estimated number of noise points: 524\n",
      "0.325\n",
      "Estimated number of clusters: 13\n",
      "Estimated number of noise points: 475\n",
      "0.350\n",
      "Estimated number of clusters: 15\n",
      "Estimated number of noise points: 429\n",
      "0.375\n",
      "Estimated number of clusters: 15\n",
      "Estimated number of noise points: 386\n",
      "0.400\n",
      "Estimated number of clusters: 14\n",
      "Estimated number of noise points: 369\n",
      "0.425\n",
      "Estimated number of clusters: 14\n",
      "Estimated number of noise points: 336\n",
      "0.450\n",
      "Estimated number of clusters: 13\n",
      "Estimated number of noise points: 318\n",
      "0.475\n",
      "Estimated number of clusters: 12\n",
      "Estimated number of noise points: 301\n",
      "0.500\n",
      "Estimated number of clusters: 12\n",
      "Estimated number of noise points: 287\n",
      "0.525\n",
      "Estimated number of clusters: 13\n",
      "Estimated number of noise points: 260\n",
      "0.550\n",
      "Estimated number of clusters: 13\n",
      "Estimated number of noise points: 245\n",
      "0.575\n",
      "Estimated number of clusters: 12\n",
      "Estimated number of noise points: 230\n",
      "0.600\n",
      "Estimated number of clusters: 10\n",
      "Estimated number of noise points: 219\n",
      "0.625\n",
      "Estimated number of clusters: 8\n",
      "Estimated number of noise points: 216\n",
      "0.650\n",
      "Estimated number of clusters: 8\n",
      "Estimated number of noise points: 194\n",
      "0.675\n",
      "Estimated number of clusters: 9\n",
      "Estimated number of noise points: 177\n",
      "0.700\n",
      "Estimated number of clusters: 9\n",
      "Estimated number of noise points: 160\n",
      "0.725\n",
      "Estimated number of clusters: 10\n",
      "Estimated number of noise points: 146\n",
      "0.750\n",
      "Estimated number of clusters: 10\n",
      "Estimated number of noise points: 140\n",
      "0.775\n",
      "Estimated number of clusters: 10\n",
      "Estimated number of noise points: 137\n",
      "0.800\n",
      "Estimated number of clusters: 10\n",
      "Estimated number of noise points: 131\n",
      "0.825\n",
      "Estimated number of clusters: 10\n",
      "Estimated number of noise points: 127\n",
      "0.850\n",
      "Estimated number of clusters: 10\n",
      "Estimated number of noise points: 116\n",
      "0.875\n",
      "Estimated number of clusters: 9\n",
      "Estimated number of noise points: 114\n",
      "0.900\n",
      "Estimated number of clusters: 9\n",
      "Estimated number of noise points: 105\n",
      "0.925\n",
      "Estimated number of clusters: 9\n",
      "Estimated number of noise points: 103\n",
      "0.950\n",
      "Estimated number of clusters: 9\n",
      "Estimated number of noise points: 102\n",
      "0.975\n",
      "Estimated number of clusters: 7\n",
      "Estimated number of noise points: 100\n",
      "1.000\n",
      "Estimated number of clusters: 6\n",
      "Estimated number of noise points: 99\n",
      "1.025\n",
      "Estimated number of clusters: 6\n",
      "Estimated number of noise points: 99\n",
      "1.050\n",
      "Estimated number of clusters: 6\n",
      "Estimated number of noise points: 99\n",
      "1.075\n",
      "Estimated number of clusters: 6\n",
      "Estimated number of noise points: 97\n",
      "1.100\n",
      "Estimated number of clusters: 6\n",
      "Estimated number of noise points: 95\n",
      "1.125\n",
      "Estimated number of clusters: 6\n",
      "Estimated number of noise points: 94\n",
      "1.150\n",
      "Estimated number of clusters: 6\n",
      "Estimated number of noise points: 94\n",
      "1.175\n",
      "Estimated number of clusters: 7\n",
      "Estimated number of noise points: 78\n",
      "1.200\n",
      "Estimated number of clusters: 7\n",
      "Estimated number of noise points: 77\n",
      "1.225\n",
      "Estimated number of clusters: 7\n",
      "Estimated number of noise points: 77\n",
      "1.250\n",
      "Estimated number of clusters: 7\n",
      "Estimated number of noise points: 77\n",
      "1.275\n",
      "Estimated number of clusters: 8\n",
      "Estimated number of noise points: 67\n",
      "1.300\n",
      "Estimated number of clusters: 8\n",
      "Estimated number of noise points: 56\n",
      "1.325\n",
      "Estimated number of clusters: 7\n",
      "Estimated number of noise points: 50\n",
      "1.350\n",
      "Estimated number of clusters: 8\n",
      "Estimated number of noise points: 44\n",
      "1.375\n",
      "Estimated number of clusters: 6\n",
      "Estimated number of noise points: 33\n",
      "1.400\n",
      "Estimated number of clusters: 6\n",
      "Estimated number of noise points: 31\n",
      "1.425\n",
      "Estimated number of clusters: 4\n",
      "Estimated number of noise points: 30\n",
      "1.450\n",
      "Estimated number of clusters: 4\n",
      "Estimated number of noise points: 29\n",
      "1.475\n",
      "Estimated number of clusters: 4\n",
      "Estimated number of noise points: 28\n",
      "1.500\n",
      "Estimated number of clusters: 4\n",
      "Estimated number of noise points: 27\n",
      "1.525\n",
      "Estimated number of clusters: 4\n",
      "Estimated number of noise points: 25\n",
      "1.550\n",
      "Estimated number of clusters: 4\n",
      "Estimated number of noise points: 23\n",
      "1.575\n",
      "Estimated number of clusters: 4\n",
      "Estimated number of noise points: 17\n",
      "1.600\n",
      "Estimated number of clusters: 4\n",
      "Estimated number of noise points: 16\n",
      "1.625\n",
      "Estimated number of clusters: 4\n",
      "Estimated number of noise points: 15\n",
      "1.650\n",
      "Estimated number of clusters: 4\n",
      "Estimated number of noise points: 15\n",
      "1.675\n",
      "Estimated number of clusters: 4\n",
      "Estimated number of noise points: 12\n",
      "1.700\n",
      "Estimated number of clusters: 4\n",
      "Estimated number of noise points: 8\n",
      "1.725\n",
      "Estimated number of clusters: 4\n",
      "Estimated number of noise points: 8\n",
      "1.750\n",
      "Estimated number of clusters: 4\n",
      "Estimated number of noise points: 5\n",
      "1.775\n",
      "Estimated number of clusters: 4\n",
      "Estimated number of noise points: 5\n",
      "1.800\n",
      "Estimated number of clusters: 4\n",
      "Estimated number of noise points: 5\n",
      "1.825\n",
      "Estimated number of clusters: 4\n",
      "Estimated number of noise points: 5\n",
      "1.850\n",
      "Estimated number of clusters: 4\n",
      "Estimated number of noise points: 5\n",
      "1.875\n",
      "Estimated number of clusters: 4\n",
      "Estimated number of noise points: 5\n",
      "1.900\n",
      "Estimated number of clusters: 4\n",
      "Estimated number of noise points: 5\n",
      "1.925\n",
      "Estimated number of clusters: 4\n",
      "Estimated number of noise points: 5\n",
      "1.950\n",
      "Estimated number of clusters: 4\n",
      "Estimated number of noise points: 5\n",
      "1.975\n",
      "Estimated number of clusters: 4\n",
      "Estimated number of noise points: 5\n",
      "2.000\n",
      "Estimated number of clusters: 4\n",
      "Estimated number of noise points: 5\n",
      "2.025\n",
      "Estimated number of clusters: 2\n",
      "Estimated number of noise points: 5\n",
      "2.050\n",
      "Estimated number of clusters: 2\n",
      "Estimated number of noise points: 5\n",
      "2.075\n",
      "Estimated number of clusters: 2\n",
      "Estimated number of noise points: 5\n",
      "2.100\n",
      "Estimated number of clusters: 2\n",
      "Estimated number of noise points: 5\n",
      "2.125\n",
      "Estimated number of clusters: 2\n",
      "Estimated number of noise points: 5\n",
      "2.150\n",
      "Estimated number of clusters: 2\n",
      "Estimated number of noise points: 5\n",
      "2.175\n",
      "Estimated number of clusters: 2\n",
      "Estimated number of noise points: 5\n",
      "2.200\n",
      "Estimated number of clusters: 2\n",
      "Estimated number of noise points: 5\n",
      "2.225\n",
      "Estimated number of clusters: 2\n",
      "Estimated number of noise points: 5\n",
      "2.250\n",
      "Estimated number of clusters: 2\n",
      "Estimated number of noise points: 5\n",
      "2.275\n",
      "Estimated number of clusters: 2\n",
      "Estimated number of noise points: 5\n",
      "2.300\n",
      "Estimated number of clusters: 2\n",
      "Estimated number of noise points: 5\n",
      "2.325\n",
      "Estimated number of clusters: 2\n",
      "Estimated number of noise points: 5\n",
      "2.350\n",
      "Estimated number of clusters: 2\n",
      "Estimated number of noise points: 5\n",
      "2.375\n",
      "Estimated number of clusters: 2\n",
      "Estimated number of noise points: 5\n",
      "2.400\n",
      "Estimated number of clusters: 2\n",
      "Estimated number of noise points: 5\n",
      "2.425\n",
      "Estimated number of clusters: 2\n",
      "Estimated number of noise points: 5\n",
      "2.450\n",
      "Estimated number of clusters: 2\n",
      "Estimated number of noise points: 5\n",
      "2.475\n",
      "Estimated number of clusters: 2\n",
      "Estimated number of noise points: 5\n",
      "2.500\n",
      "Estimated number of clusters: 2\n",
      "Estimated number of noise points: 5\n"
     ]
    }
   ],
   "source": [
    "# c\n",
    "# DBSCAN\n",
    "# trying different epsilons\n",
    "#\n",
    "from sklearn.cluster import DBSCAN\n",
    "for i in range(100):\n",
    "    print('{:.3f}'.format((i+1)*0.025))\n",
    "    db = DBSCAN(eps= (i+1)*0.025, min_samples=10)\n",
    "    db.fit(df_processed)\n",
    "    labels = db.labels_\n",
    "    n_noise = list(labels).count(-1)\n",
    "    n_clusters = len(set(labels)) - (1 if -1 in labels else 0)\n",
    "\n",
    "    print(\"Estimated number of clusters: {:}\".format(n_clusters))\n",
    "    print(\"Estimated number of noise points: {:}\".format(n_noise))"
   ],
   "metadata": {
    "collapsed": false
   }
  },
  {
   "cell_type": "code",
   "execution_count": 43,
   "outputs": [],
   "source": [
    "# Since we are already getting good results, we won't be testing different min samples\n",
    "# By the kmeans and GMM we assume number of clusters close to 10\n",
    "# Let us take eps=1.75\n",
    "db = DBSCAN(eps=0.725, min_samples=10)\n",
    "db.fit(df_processed.to_numpy())\n",
    "\n",
    "labels = db.labels_\n",
    "#compute the centroids by hand\n",
    "n_clusters = len(set(labels)) - (1 if -1 in labels else 0)\n",
    "centroids = None\n",
    "for k in range(n_clusters):\n",
    "    points_of_cluster = df_processed.to_numpy()[labels==k,:]\n",
    "    centroid_of_cluster = (np.mean(points_of_cluster, axis=0)).reshape(1,-1)\n",
    "    if centroids is None:\n",
    "        centroids = centroid_of_cluster\n",
    "    else:\n",
    "        centroids = np.concatenate((centroids, centroid_of_cluster), axis=0)"
   ],
   "metadata": {
    "collapsed": false
   }
  },
  {
   "cell_type": "code",
   "execution_count": 44,
   "outputs": [
    {
     "data": {
      "text/plain": "   obsDt  howMany  lat  lng  obsValid  obsReviewed  locationPrivate  \\\n0  33781        3   24   84         1            0                1   \n1  35135        4   21   76         1            0                0   \n2  30865        3    9   93         1            0                1   \n3  33277        2   26   92         1            0                0   \n4  26241        3   10   92         1            0                0   \n5  61166       12   24   71         1            0                1   \n6  61585        1   15   75         1            0                0   \n7  49716        3   33   76         1            0                1   \n8  34478        4   29   77         1            1                0   \n9  30108        1   25   91         1            1                0   \n\n   exoticCategory_N  exoticCategory_X  \n0                 0                 0  \n1                 0                 0  \n2                 0                 0  \n3                 0                 0  \n4                 0                 0  \n5                 0                 0  \n6                 0                 0  \n7                 0                 0  \n8                 0                 0  \n9                 0                 0  ",
      "text/html": "<div>\n<style scoped>\n    .dataframe tbody tr th:only-of-type {\n        vertical-align: middle;\n    }\n\n    .dataframe tbody tr th {\n        vertical-align: top;\n    }\n\n    .dataframe thead th {\n        text-align: right;\n    }\n</style>\n<table border=\"1\" class=\"dataframe\">\n  <thead>\n    <tr style=\"text-align: right;\">\n      <th></th>\n      <th>obsDt</th>\n      <th>howMany</th>\n      <th>lat</th>\n      <th>lng</th>\n      <th>obsValid</th>\n      <th>obsReviewed</th>\n      <th>locationPrivate</th>\n      <th>exoticCategory_N</th>\n      <th>exoticCategory_X</th>\n    </tr>\n  </thead>\n  <tbody>\n    <tr>\n      <th>0</th>\n      <td>33781</td>\n      <td>3</td>\n      <td>24</td>\n      <td>84</td>\n      <td>1</td>\n      <td>0</td>\n      <td>1</td>\n      <td>0</td>\n      <td>0</td>\n    </tr>\n    <tr>\n      <th>1</th>\n      <td>35135</td>\n      <td>4</td>\n      <td>21</td>\n      <td>76</td>\n      <td>1</td>\n      <td>0</td>\n      <td>0</td>\n      <td>0</td>\n      <td>0</td>\n    </tr>\n    <tr>\n      <th>2</th>\n      <td>30865</td>\n      <td>3</td>\n      <td>9</td>\n      <td>93</td>\n      <td>1</td>\n      <td>0</td>\n      <td>1</td>\n      <td>0</td>\n      <td>0</td>\n    </tr>\n    <tr>\n      <th>3</th>\n      <td>33277</td>\n      <td>2</td>\n      <td>26</td>\n      <td>92</td>\n      <td>1</td>\n      <td>0</td>\n      <td>0</td>\n      <td>0</td>\n      <td>0</td>\n    </tr>\n    <tr>\n      <th>4</th>\n      <td>26241</td>\n      <td>3</td>\n      <td>10</td>\n      <td>92</td>\n      <td>1</td>\n      <td>0</td>\n      <td>0</td>\n      <td>0</td>\n      <td>0</td>\n    </tr>\n    <tr>\n      <th>5</th>\n      <td>61166</td>\n      <td>12</td>\n      <td>24</td>\n      <td>71</td>\n      <td>1</td>\n      <td>0</td>\n      <td>1</td>\n      <td>0</td>\n      <td>0</td>\n    </tr>\n    <tr>\n      <th>6</th>\n      <td>61585</td>\n      <td>1</td>\n      <td>15</td>\n      <td>75</td>\n      <td>1</td>\n      <td>0</td>\n      <td>0</td>\n      <td>0</td>\n      <td>0</td>\n    </tr>\n    <tr>\n      <th>7</th>\n      <td>49716</td>\n      <td>3</td>\n      <td>33</td>\n      <td>76</td>\n      <td>1</td>\n      <td>0</td>\n      <td>1</td>\n      <td>0</td>\n      <td>0</td>\n    </tr>\n    <tr>\n      <th>8</th>\n      <td>34478</td>\n      <td>4</td>\n      <td>29</td>\n      <td>77</td>\n      <td>1</td>\n      <td>1</td>\n      <td>0</td>\n      <td>0</td>\n      <td>0</td>\n    </tr>\n    <tr>\n      <th>9</th>\n      <td>30108</td>\n      <td>1</td>\n      <td>25</td>\n      <td>91</td>\n      <td>1</td>\n      <td>1</td>\n      <td>0</td>\n      <td>0</td>\n      <td>0</td>\n    </tr>\n  </tbody>\n</table>\n</div>"
     },
     "execution_count": 44,
     "metadata": {},
     "output_type": "execute_result"
    }
   ],
   "source": [
    "dt_c2 = pd.DataFrame(data=scaler.inverse_transform(centroids),columns=df_processed.columns)\n",
    "dt_c2.astype(int)"
   ],
   "metadata": {
    "collapsed": false
   }
  },
  {
   "cell_type": "markdown",
   "source": [
    " Sadly the results don't correspond to any domain knowledge I know, but by having 10 clusters, the clustering seems a bit similar to the results of GMM. Also while we can't say private location corresponds to very low number of \"howMany\" reported, they don't seem too high."
   ],
   "metadata": {
    "collapsed": false
   }
  },
  {
   "cell_type": "markdown",
   "source": [
    "**(d)** Sadly the clustering doesn't correspond to any domain knowledge I know. The clusters might correspond to different groups of bird watcher behavior. While there is some evidence about lower numbers in flocks for private sites, but evidence between different clustering method is not consistent on this."
   ],
   "metadata": {
    "collapsed": false
   }
  },
  {
   "cell_type": "markdown",
   "source": [],
   "metadata": {
    "collapsed": false
   }
  }
 ],
 "metadata": {
  "kernelspec": {
   "display_name": "Python 3 (ipykernel)",
   "language": "python",
   "name": "python3"
  },
  "language_info": {
   "codemirror_mode": {
    "name": "ipython",
    "version": 3
   },
   "file_extension": ".py",
   "mimetype": "text/x-python",
   "name": "python",
   "nbconvert_exporter": "python",
   "pygments_lexer": "ipython3",
   "version": "3.10.9"
  },
  "varInspector": {
   "cols": {
    "lenName": 16,
    "lenType": 16,
    "lenVar": 40
   },
   "kernels_config": {
    "python": {
     "delete_cmd_postfix": "",
     "delete_cmd_prefix": "del ",
     "library": "var_list.py",
     "varRefreshCmd": "print(var_dic_list())"
    },
    "r": {
     "delete_cmd_postfix": ") ",
     "delete_cmd_prefix": "rm(",
     "library": "var_list.r",
     "varRefreshCmd": "cat(var_dic_list()) "
    }
   },
   "types_to_exclude": [
    "module",
    "function",
    "builtin_function_or_method",
    "instance",
    "_Feature"
   ],
   "window_display": false
  }
 },
 "nbformat": 4,
 "nbformat_minor": 2
}
